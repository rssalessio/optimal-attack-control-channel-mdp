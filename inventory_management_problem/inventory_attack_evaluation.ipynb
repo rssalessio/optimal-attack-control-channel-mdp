{
 "cells": [
  {
   "cell_type": "markdown",
   "id": "60de36ee",
   "metadata": {},
   "source": [
    "# Notebook for the Inventory Management Problem\n",
    "## Attack computation"
   ]
  },
  {
   "cell_type": "code",
   "execution_count": 1,
   "id": "b5b2c668",
   "metadata": {},
   "outputs": [],
   "source": [
    "import numpy as np\n",
    "import matplotlib.pyplot as plt\n",
    "\n",
    "from inventory import Inventory\n",
    "from attacker import *\n",
    "from utils import *"
   ]
  },
  {
   "cell_type": "code",
   "execution_count": 2,
   "id": "e927812e",
   "metadata": {},
   "outputs": [],
   "source": [
    "SMALL_SIZE = 12\n",
    "MEDIUM_SIZE = 14\n",
    "BIGGER_SIZE = 18\n",
    "plt.rcParams.update({\n",
    "    \"font.family\": \"serif\",  # use serif/main font for text elements\n",
    "    \"text.usetex\": True,  # use inline math for ticks\n",
    "    \"pgf.rcfonts\": False,  # don't setup fonts from rc parameters\n",
    "    \"legend.fontsize\": 14})\n",
    "plt.rcParams['pgf.preamble'] = r\"\\\\usepackage{units} \\\\usepackage{amsmath} \\\\usepackage{metalogo} \\\\usepackage{unicode-math} \\\\setmainfont{DejaVu Serif} \\\\setmathfont{xits-math.otf}\"\n",
    "plt.rc('font', size=BIGGER_SIZE)          # controls default text sizes\n",
    "plt.rc('axes', titlesize=BIGGER_SIZE)     # fontsize of the axes title\n",
    "plt.rc('axes', labelsize=BIGGER_SIZE)    # fontsize of the x and y labels\n",
    "plt.rc('xtick', labelsize=SMALL_SIZE)    # fontsize of the tick labels\n",
    "plt.rc('ytick', labelsize=SMALL_SIZE)    # fontsize of the tick labels\n",
    "plt.rc('legend', fontsize=BIGGER_SIZE)    # legend fontsize\n",
    "plt.rc('figure', titlesize=BIGGER_SIZE)  # fontsize of the figure title"
   ]
  },
  {
   "cell_type": "markdown",
   "id": "f7593222",
   "metadata": {},
   "source": [
    "## Setup problem"
   ]
  },
  {
   "cell_type": "code",
   "execution_count": 3,
   "id": "7f6796dd",
   "metadata": {},
   "outputs": [],
   "source": [
    "inventory_size = 35\n",
    "gamma = 0.95\n",
    "env = Inventory(inventory_size)\n",
    "dim_state, dim_action = env.P.shape[0], env.P.shape[1]\n",
    "V, pi = value_iteration(env, gamma)\n",
    "unpoisoned_stationary_distribution = compute_stationary_distribution(env.P, pi).tolist()"
   ]
  },
  {
   "cell_type": "markdown",
   "id": "c450b93f",
   "metadata": {},
   "source": [
    "## Compute constrained attack"
   ]
  },
  {
   "cell_type": "code",
   "execution_count": 13,
   "id": "9ede863d",
   "metadata": {},
   "outputs": [],
   "source": [
    "epsilons_det = np.arange(7)\n",
    "atk_value_det = []\n",
    "inf_value_det = []\n",
    "alpha = [1 / env.P.shape[0]] * env.P.shape[0]\n",
    "# alpha[-1] = 1\n",
    "for epsilon in epsilons_det:\n",
    "    v, phi, mud = compute_deterministic_attack(gamma, 0., env.P, -env.R, pi, lambda x,y: np.abs(x-y) <= epsilon, alpha)\n",
    "    mu = compute_stationary_distribution(env.P, phi)\n",
    "    I, _ = compute_I(mu, env.P, pi, phi)\n",
    "    atk_value_det.append(-np.mean(v))  # v[-1])\n",
    "    inf_value_det.append(I)"
   ]
  },
  {
   "cell_type": "markdown",
   "id": "9b39666b",
   "metadata": {},
   "source": [
    "## Compute stealthy deterministic attack"
   ]
  },
  {
   "cell_type": "code",
   "execution_count": 14,
   "id": "dc3c5657",
   "metadata": {},
   "outputs": [],
   "source": [
    "betas = np.concatenate([np.linspace(0, 8, 10), np.geomspace(8, 15, 10)])\n",
    "atk_value_det2 = []\n",
    "inf_value_det2 = []\n",
    "alpha = [1 / env.P.shape[0]] * env.P.shape[0]\n",
    "# alpha[-1] = 1\n",
    "for beta in betas:\n",
    "    v, phi, mud = compute_deterministic_attack(gamma, beta, env.P, -env.R, pi, lambda x,y: True, alpha)\n",
    "    mu = compute_stationary_distribution(env.P, phi)\n",
    "    I, _ = compute_I(mu, env.P, pi, phi)\n",
    "    atk_value_det2.append(-np.mean(v)) # v[-1])\n",
    "    inf_value_det2.append(I)"
   ]
  },
  {
   "cell_type": "markdown",
   "id": "5dd82361",
   "metadata": {},
   "source": [
    "## Compute stealthy random attack"
   ]
  },
  {
   "cell_type": "code",
   "execution_count": 15,
   "id": "f719b05a",
   "metadata": {},
   "outputs": [],
   "source": [
    "alpha = [1 / env.P.shape[0]] * env.P.shape[0]\n",
    "#alpha[-1] = 1\n",
    "atk_value_rnd = []\n",
    "inf_value_rnd = []\n",
    "epsilons_rnd = np.linspace(1e-4, 0.5, 15)\n",
    "for epsilon in epsilons_rnd:\n",
    "    v, phi, mud = compute_randomized_attack(gamma, epsilon, env.P, -env.R, pi, alpha)\n",
    "    mu = compute_stationary_distribution(env.P, phi)\n",
    "    I, _ = compute_I(mu, env.P, pi, phi)\n",
    "    atk_value_rnd.append(-v)\n",
    "    inf_value_rnd.append(I)"
   ]
  },
  {
   "cell_type": "markdown",
   "id": "0bec068e",
   "metadata": {},
   "source": [
    "## Plot results"
   ]
  },
  {
   "cell_type": "code",
   "execution_count": 17,
   "id": "650c611f",
   "metadata": {
    "scrolled": true
   },
   "outputs": [
    {
     "data": {
      "image/png": "[encoded data removed]",
      "text/plain": [
       "<Figure size 648x432 with 1 Axes>"
      ]
     },
     "metadata": {
      "needs_background": "light"
     },
     "output_type": "display_data"
    }
   ],
   "source": [
    "fig, ax = plt.subplots(1,1, figsize=(9, 6))\n",
    "ax.scatter(inf_value_det, atk_value_det, label='Constrained attack (eq. 2)')\n",
    "ax.scatter(inf_value_rnd, atk_value_rnd, label='Rand. stealthy IT (eq. 9) ')\n",
    "ax.scatter(inf_value_det2, atk_value_det2, label='Det. stealthy attack (eq. 10)')\n",
    "\n",
    "for i, eps in enumerate(epsilons_det):\n",
    "    if i == 5:\n",
    "        pass\n",
    "        #word = r'$\\varepsilon\\geq{}$'.format(eps)\n",
    "        #plt.text(inf_value_det[i]-0.05, atk_value_det[i]-3, word, fontsize=12)\n",
    "    elif i <5 and i>0:\n",
    "        word = r'$\\varepsilon={}$'.format(eps)\n",
    "        plt.text(inf_value_det[i]-0.01, atk_value_det[i]+2, word, fontsize=12)\n",
    "        \n",
    "for i, eps in enumerate(epsilons_rnd):\n",
    "    if i == 2 or i == 5 or  i == 8 or i == 10:\n",
    "        word = r'$\\varepsilon ={}$'.format(np.round(eps, 2))\n",
    "        plt.text(inf_value_rnd[i]+0.01, atk_value_rnd[i]-0.7, word, fontsize=12)\n",
    "\n",
    "for i, beta in enumerate(betas):\n",
    "    if i == 2:\n",
    "        word = r'$\\beta ={}$'.format(np.round(beta, 2))\n",
    "        plt.text(inf_value_det2[i]-0.06, atk_value_det2[i]-1.5, word, fontsize=12)\n",
    "    if i == 14:\n",
    "        word = r'$\\beta ={}$'.format(np.round(beta, 2))\n",
    "        plt.text(inf_value_det2[i]-0.07, atk_value_det2[i]-1.5, word, fontsize=12)\n",
    "    if i == 18:\n",
    "        word = r'$\\beta ={}$'.format(np.round(beta, 1))\n",
    "        plt.text(inf_value_det2[i], atk_value_det2[i]+2.5, word, fontsize=12)\n",
    "#ax.invert_xaxis()\n",
    "ax.set_ylabel(r'$\\mathbb{E}[r(s,a)]$')\n",
    "ax.set_xlabel(r'$I(\\pi^\\star,\\phi^\\star)$')\n",
    "ax.set_title('Value vs Information rate')\n",
    "ax.grid()\n",
    "\n",
    "fig.subplots_adjust(left=0.1, right=0.9)  # create some space below the plots by increasing the bottom-value\n",
    "ax.legend(loc='upper center', bbox_to_anchor=(0.5, 1.165), ncol=3, fontsize=13)\n",
    "plt.plot()\n",
    "plt.savefig(\"inventory_attack_evaluation_final.pdf\",bbox_inches=\"tight\")"
   ]
  },
  {
   "cell_type": "markdown",
   "id": "091b5816",
   "metadata": {},
   "source": [
    "## Save results"
   ]
  },
  {
   "cell_type": "code",
   "execution_count": 18,
   "id": "43a4815c",
   "metadata": {},
   "outputs": [],
   "source": [
    "import pickle\n",
    "\n",
    "data = {'det': [inf_value_det, atk_value_det, epsilons_det],\n",
    "     'rnd': [inf_value_rnd, atk_value_rnd, epsilons_rnd],\n",
    "     'det2': [inf_value_det2, atk_value_det2, betas]}\n",
    "\n",
    "with open('data_attack.pkl', 'wb') as handle:\n",
    "    pickle.dump(data, handle)\n"
   ]
  }
 ],
 "metadata": {
  "kernelspec": {
   "display_name": "Python 3",
   "language": "python",
   "name": "python3"
  },
  "language_info": {
   "codemirror_mode": {
    "name": "ipython",
    "version": 3
   },
   "file_extension": ".py",
   "mimetype": "text/x-python",
   "name": "python",
   "nbconvert_exporter": "python",
   "pygments_lexer": "ipython3",
   "version": "3.7.10"
  }
 },
 "nbformat": 4,
 "nbformat_minor": 5
}
