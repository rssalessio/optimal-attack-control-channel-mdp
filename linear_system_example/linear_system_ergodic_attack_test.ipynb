{
 "cells": [
  {
   "cell_type": "markdown",
   "id": "f05a0ddd",
   "metadata": {},
   "source": [
    "# Notebook for ergodic attacks on linear systems\n",
    "\n",
    "**Required dependencies**\n",
    "\n",
    "* Python >= 3.5\n",
    "* NumPy\n",
    "* Scipy\n",
    "* Matplotlib\n",
    "* Cvxpy"
   ]
  },
  {
   "cell_type": "code",
   "execution_count": 300,
   "id": "5ee96840",
   "metadata": {},
   "outputs": [],
   "source": [
    "import cvxpy as cp\n",
    "import numpy as np\n",
    "import matplotlib.pyplot as plt\n",
    "from scipy.linalg import solve_discrete_lyapunov, solve_discrete_are, logm\n",
    "from utils import System, dlqr, compute_power_series, compute_R, simulate, \\\n",
    "    compute_beta_theta, compute_beta_R, compute_I, compute_attack, \\\n",
    "    compute_ergodic_reward\n",
    "\n"
   ]
  },
  {
   "cell_type": "code",
   "execution_count": 301,
   "id": "4a95b44f",
   "metadata": {},
   "outputs": [],
   "source": [
    "## Setup plot parameters\n",
    "SMALL_SIZE = 10\n",
    "MEDIUM_SIZE = 12\n",
    "BIGGER_SIZE = 14\n",
    "plt.rcParams.update({\n",
    "    \"font.family\": \"serif\",  # use serif/main font for text elements\n",
    "    \"text.usetex\": True,  # use inline math for ticks\n",
    "    \"pgf.rcfonts\": False,  # don't setup fonts from rc parameters\n",
    "    \"legend.fontsize\": 14,\n",
    "    })\n",
    "\n",
    "plt.rcParams['pgf.preamble'] = r\"\\usepackage{units} \\usepackage{amsmath} \\usepackage{metalogo} \\usepackage{unicode-math} \\setmainfont{DejaVu Serif} \\setmathfont{xits-math.otf}\"\n",
    "plt.rcParams.update({\n",
    "    'text.latex.preamble': r'\\usepackage{amsfonts}'\n",
    "})\n",
    "plt.rc('font', size=BIGGER_SIZE)          # controls default text sizes\n",
    "plt.rc('axes', titlesize=BIGGER_SIZE)     # fontsize of the axes title\n",
    "plt.rc('axes', labelsize=BIGGER_SIZE)    # fontsize of the x and y labels\n",
    "plt.rc('xtick', labelsize=SMALL_SIZE)    # fontsize of the tick labels\n",
    "plt.rc('ytick', labelsize=SMALL_SIZE)    # fontsize of the tick labels\n",
    "plt.rc('legend', fontsize=BIGGER_SIZE)    # legend fontsize\n",
    "plt.rc('figure', titlesize=BIGGER_SIZE)  # fontsize of the figure title"
   ]
  },
  {
   "cell_type": "markdown",
   "id": "2c65d381",
   "metadata": {},
   "source": [
    "## System definition\n",
    "Initialization of the system"
   ]
  },
  {
   "cell_type": "code",
   "execution_count": 302,
   "id": "34d2bf16",
   "metadata": {},
   "outputs": [
    {
     "name": "stdout",
     "output_type": "stream",
     "text": [
      "K: [[-0.19    -0.26125]\n",
      " [-0.3325  -0.4275 ]]\n",
      "Eigenvalues closed loop system: [0.00093237 0.13406763]\n"
     ]
    }
   ],
   "source": [
    "# System definition\n",
    "A = np.matrix([[0.7, 0.9],[1.5, 2.]])\n",
    "B = np.matrix([[0, 2],[4, 2]])\n",
    "n, m = B.shape\n",
    "I = np.matrix(np.identity(n))\n",
    "\n",
    "# Feedback gain\n",
    "K = -0.95*dlqr(A, B, I, 0 * I)\n",
    "\n",
    "Q = np.matrix(I)\n",
    "Qinv = np.linalg.inv(Q)\n",
    "\n",
    "original_system = System(A, B, K, 0 * K, 0 * I, np.zeros(m), Q)\n",
    "L = A + B @ K\n",
    "\n",
    "print('K: {}'.format(K))\n",
    "print('Eigenvalues closed loop system: {}'.format(np.linalg.eig(L)[0]))"
   ]
  },
  {
   "cell_type": "markdown",
   "id": "9bd13834",
   "metadata": {},
   "source": [
    "## Helper functions"
   ]
  },
  {
   "cell_type": "code",
   "execution_count": 294,
   "id": "36eeef29",
   "metadata": {},
   "outputs": [],
   "source": [
    "def compute_attack(sys, beta):\n",
    "    # Computes the optimal Gaussian attack. Returns \\bar{K} and the covariance noise of the attack\n",
    "    P, F, _, _, _ = compute_P(sys, beta)\n",
    "    L = sys.A + sys.B @ sys.K\n",
    "    \n",
    "    Binv = np.linalg.inv(sys.B.T @ sys.B) @ sys.B.T\n",
    "    Kbar = beta * Binv @ np.linalg.inv(F) @ P @ L\n",
    "    Qinv = np.linalg.inv(sys.Q)\n",
    "    R = beta * np.linalg.inv((0.5 * Qinv - beta * P)) @ P @ Q\n",
    "    V = Binv @ R @ Binv.T\n",
    "    return Kbar, V\n",
    "\n",
    "def compute_P(sys, beta):\n",
    "    # Computes the stationary value of P_t for a given value of beta\n",
    "    Plast = I\n",
    "    L = sys.A + sys.B @ sys.K\n",
    "    Sigma_inv = np.linalg.inv(sys.Q)\n",
    "    cond = 0\n",
    "    Binv = np.linalg.inv(sys.B.T @ sys.B) @ sys.B.T\n",
    "    for i in range(1000):\n",
    "        F = 0.5 * Sigma_inv - beta * Plast\n",
    "        if np.isclose(np.linalg.det(F),1e-3) or np.any(np.linalg.eig(F)[0] < 1e-7):\n",
    "            return None, 0, 0, 0, 0\n",
    "        Finv = np.linalg.inv(F)\n",
    "        Pnext =  (I + L.T @ Plast @ L + beta * L.T @ Plast @ Finv @ Plast @ L)\n",
    "        K = (Binv @ Finv @ Pnext @ L)\n",
    "\n",
    "        cond = 0.5 * beta * K.T @ B.T @ Sigma_inv @ sys.B @ K  -  np.identity(n)\n",
    "        if np.linalg.eig(cond)[0].max() > 0:\n",
    "            return None, 0, 0, 0, 0\n",
    "\n",
    "        delta = np.linalg.norm(Pnext-Plast)\n",
    "        if delta < 1e-10:\n",
    "            break\n",
    "        Plast = Pnext\n",
    "    return Pnext, F, i, np.linalg.eig(cond)[0].max(), np.linalg.eig(F)[0].min()\n",
    "\n",
    "def compute_fixed_point(sys, beta0=1e-5):\n",
    "    # Computes beta^\\star.\n",
    "    # The idea is to find the first point beta1 for which the recursion it not well defined, and then apply\n",
    "    # a bisection algorithm between beta0 and beta1.\n",
    "    Sigma = sys.Q\n",
    "    last_beta = beta0\n",
    "    P0 = compute_P(sys, last_beta)[0]\n",
    "    new_beta = 2 * last_beta\n",
    "    while True:\n",
    "        Pnew = compute_P(sys, new_beta)[0]\n",
    "        if Pnew is None:\n",
    "            beta1 = new_beta\n",
    "            break\n",
    "        new_beta *= 2\n",
    "        \n",
    "    # Bisection\n",
    "    a,b = beta0, beta1\n",
    "    while True:\n",
    "        c = (a+b)/2\n",
    "        Pnew = compute_P(sys, c)[0]\n",
    "        if Pnew is None:\n",
    "            b = c\n",
    "        else:\n",
    "            if (b-a)/2 < 1e-5:\n",
    "                break\n",
    "            a = c\n",
    "    return c\n",
    "\n",
    "def compute_stationary_distribution(sys):\n",
    "    # Computes stationary distribution of the system under attack\n",
    "    L = sys.A + sys.B @ (sys.K + sys.Kbar)\n",
    "    R = sys.Q + sys.B @ sys.R @ sys.B.T\n",
    "    X = solve_discrete_lyapunov(L, R)\n",
    "    return X\n",
    "\n",
    "def compute_asymptotics(sys):\n",
    "    # Computes I and E[x^2] at stationarity\n",
    "    X = compute_stationary_distribution(sys)\n",
    "    Qinv = np.linalg.inv(sys.Q)\n",
    "    Z =  Qinv @ sys.B @ sys.R @ sys.B.T\n",
    "    S = sys.Kbar.T @ sys.B.T @ Qinv @ sys.B @ sys.Kbar\n",
    "    t1 = np.trace(Z)\n",
    "    t2 = np.trace(S @ X)\n",
    "    t3 = np.trace(logm(I+Z))\n",
    "\n",
    "    return np.trace(X), 0.5 * (t1 + t2 - t3)"
   ]
  },
  {
   "cell_type": "markdown",
   "id": "94fa4343",
   "metadata": {},
   "source": [
    "## Value of $\\beta^\\star$"
   ]
  },
  {
   "cell_type": "code",
   "execution_count": 295,
   "id": "8450b877",
   "metadata": {
    "scrolled": true
   },
   "outputs": [
    {
     "name": "stdout",
     "output_type": "stream",
     "text": [
      "Beta max: 0.3735742997741699\n"
     ]
    }
   ],
   "source": [
    "beta_max = compute_fixed_point(original_system)\n",
    "print('Beta max: {}'.format(beta_max))"
   ]
  },
  {
   "cell_type": "markdown",
   "id": "90431c93",
   "metadata": {},
   "source": [
    "## Asymptotic values"
   ]
  },
  {
   "cell_type": "code",
   "execution_count": 296,
   "id": "eb1ad7e6",
   "metadata": {},
   "outputs": [],
   "source": [
    "eig_attacked_system = []\n",
    "eig_noise = []\n",
    "I_values = []\n",
    "Ex_sq = []\n",
    "\n",
    "betas = np.linspace(1e-3, beta_max, 500)\n",
    "for idx, beta in enumerate(betas):\n",
    "    Kbar, V = compute_attack(original_system, beta)\n",
    "    attacked_system = System(A, B, K, Kbar, V, np.zeros(m), Q)\n",
    "    L = A + B @ (K + Kbar)\n",
    "    Leig = np.abs(np.linalg.eig(L)[0])\n",
    "    eig_attacked_system.append(Leig.max())\n",
    "    R = Q + B @ V @ B.T\n",
    "    eigR = np.linalg.eig(R)[0]\n",
    "    eig_noise.append(eigR.max())\n",
    "    x,y = compute_asymptotics(attacked_system)\n",
    "    Ex_sq.append(x)\n",
    "    I_values.append(y)\n",
    "    "
   ]
  },
  {
   "cell_type": "code",
   "execution_count": 297,
   "id": "6fdada19",
   "metadata": {
    "scrolled": true
   },
   "outputs": [
    {
     "data": {
      "image/png": "[encoded data removed]",
      "text/plain": [
       "<Figure size 288x216 with 2 Axes>"
      ]
     },
     "metadata": {
      "needs_background": "light"
     },
     "output_type": "display_data"
    }
   ],
   "source": [
    "fig = plt.figure(figsize=(4, 3))\n",
    "ax1 = fig.add_subplot(111)\n",
    "ax2 = ax1.twinx()\n",
    "\n",
    "p1, = ax1.plot(betas, Ex_sq, label=r'$\\mathbb{E}[x^\\top x]$', color='tab:blue')\n",
    "p2, = ax2.plot(betas, I_values, label=r'$I$', color='tab:orange')\n",
    "p3 = ax1.axvline(x=beta_max, label=r'$\\beta^\\star$', linestyle='--', color='k')\n",
    "#leg = fig.legend()\n",
    "\n",
    "\n",
    "lns = [p1, p2, p3]\n",
    "labs = [l.get_label() for l in lns]\n",
    "leg = ax1.legend(lns, labs, loc='upper left', fontsize=12, ncol=2)\n",
    "\n",
    "ax1.yaxis.get_label().set_color(p1.get_color())\n",
    "leg.texts[0].set_color(p1.get_color())\n",
    "\n",
    "ax2.yaxis.get_label().set_color(p2.get_color())\n",
    "leg.texts[1].set_color(p2.get_color())\n",
    "\n",
    "ax1.set_xlabel(r'$\\beta$', fontsize=18)\n",
    "ax1.set_ylabel(r'$\\mathbb{E}[x^\\top x]$', fontsize=18)\n",
    "ax2.set_ylabel(r'$I$', fontsize=18)\n",
    "ax1.grid(True)\n",
    "#ax2.grid(True)\n",
    "ax2.set_yscale('log')\n",
    "ax1.set_yscale('log')\n",
    "#plt.show()\n",
    "plt.savefig(\"attack_asymptotics.pdf\",bbox_inches=\"tight\")\n"
   ]
  },
  {
   "cell_type": "markdown",
   "id": "a318c0ad",
   "metadata": {},
   "source": [
    "## Attack statistics"
   ]
  },
  {
   "cell_type": "code",
   "execution_count": 298,
   "id": "56f43025",
   "metadata": {},
   "outputs": [
    {
     "name": "stdout",
     "output_type": "stream",
     "text": [
      "0.1\n",
      "0.25\n",
      "0.35\n"
     ]
    }
   ],
   "source": [
    "betas = [0.1, 0.25, 0.35]\n",
    "T = 50\n",
    "N = 3000\n",
    "atk_time = 25\n",
    "t = np.arange(51)\n",
    "\n",
    "data = {beta: {} for beta in betas}\n",
    "\n",
    "for idx, beta in enumerate(betas):\n",
    "    print(beta)\n",
    "    Kbar, V = compute_attack(original_system, beta)\n",
    "    attacked_system = System(A, B, K, Kbar, V, np.zeros(m), Q)\n",
    "    x, u, llr, cusum = simulate(N=N, T=T, sys=attacked_system, attack_time=atk_time)\n",
    "    \n",
    "    data[beta]['x'] = x\n",
    "    data[beta]['u'] = u\n",
    "    data[beta]['llr'] = llr\n",
    "    data[beta]['cusum'] = cusum\n",
    " "
   ]
  },
  {
   "cell_type": "code",
   "execution_count": 299,
   "id": "9da08ebe",
   "metadata": {},
   "outputs": [
    {
     "data": {
      "image/png": "[encoded data removed]",
      "text/plain": [
       "<Figure size 576x216 with 2 Axes>"
      ]
     },
     "metadata": {
      "needs_background": "light"
     },
     "output_type": "display_data"
    }
   ],
   "source": [
    "fig, ax = plt.subplots(nrows=1, ncols=2, figsize=(8, 3))\n",
    "\n",
    "lns = []\n",
    "\n",
    "for idx, beta in enumerate(betas):\n",
    "    Kbar, V = compute_attack(original_system, beta)\n",
    "    attacked_system = System(A, B, K, Kbar, V, np.zeros(m), Q)\n",
    "    x, u, llr, cusum = data[beta]['x'], data[beta]['u'], data[beta]['llr'], data[beta]['cusum']\n",
    "    \n",
    "    xsq = np.linalg.norm(x,2, axis=2)**2\n",
    "    xsq_mean = xsq.mean(axis=0)\n",
    "    xsq_ci = (1.95 / np.sqrt(N)) * xsq.std(axis=0)\n",
    "    \n",
    "    llr_mean = llr.mean(axis=0)\n",
    "    llr_ci = (1.95 / np.sqrt(N)) * llr.std(axis=0)\n",
    "    cusum_mean = cusum.mean(axis=0)\n",
    "    cusum_ci = (1.95 / np.sqrt(N)) * cusum.std(axis=0)\n",
    "    \n",
    "    \n",
    "    l, = ax[0].plot(t, xsq_mean, label=r'$\\beta={}$'.format(beta))\n",
    "    ax[0].fill_between(t, xsq_mean - xsq_ci, xsq_mean + xsq_ci, alpha=0.2)\n",
    "    lns.append(l)\n",
    "    \n",
    "    ax[1].plot(llr_mean, label=r'$\\beta={}$'.format(beta))\n",
    "    ax[1].fill_between(np.arange(T), llr_mean - llr_ci, llr_mean + llr_ci, alpha=0.2)\n",
    "    \n",
    "    #ax[2].plot(cusum_mean, label=r'$\\beta={}$'.format(beta))\n",
    "    #ax[2].fill_between(np.arange(T+1), cusum_mean - cusum_ci, cusum_mean + cusum_ci, alpha=0.2)\n",
    "\n",
    "    \n",
    "    \n",
    "ax[0].grid(True)\n",
    "ax[1].grid(True)\n",
    "#ax[2].grid(True)\n",
    "p3 = ax[0].axvline(x=atk_time, label=r'$t_{atk}$', linestyle='--', color='k')\n",
    "p4 = ax[1].axvline(x=atk_time, label=r'$t_{atk}$', linestyle='--', color='k')\n",
    "lns.append(p3)\n",
    "ax[0].set_xlabel(r'$t$', fontsize=18)\n",
    "ax[0].set_ylabel(r'$\\mathbb{E}[x_t^\\top x_t]$', fontsize=18)\n",
    "ax[1].set_xlabel(r'$t$', fontsize=18)\n",
    "ax[1].set_ylabel(r'$\\mathbb{E}\\left[\\ln \\frac{P^\\phi(x_t)}{P(x_t)}\\right]$', fontsize=18)\n",
    "#ax[2].set_xlabel(r'$t$')\n",
    "labs = [l.get_label() for l in lns]\n",
    "\n",
    "fig.tight_layout()\n",
    "ax[0].legend(lns, labs, loc='upper center', fontsize=14, bbox_to_anchor=(1.2, 1.22), ncol=4)\n",
    "#plt.plot()\n",
    "plt.savefig(\"attack_eval.pdf\",bbox_inches=\"tight\")"
   ]
  }
 ],
 "metadata": {
  "kernelspec": {
   "display_name": "Python 3",
   "language": "python",
   "name": "python3"
  },
  "language_info": {
   "codemirror_mode": {
    "name": "ipython",
    "version": 3
   },
   "file_extension": ".py",
   "mimetype": "text/x-python",
   "name": "python",
   "nbconvert_exporter": "python",
   "pygments_lexer": "ipython3",
   "version": "3.7.10"
  }
 },
 "nbformat": 4,
 "nbformat_minor": 5
}
